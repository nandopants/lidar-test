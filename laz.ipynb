{
 "cells": [
  {
   "cell_type": "code",
   "execution_count": 1,
   "metadata": {},
   "outputs": [
    {
     "ename": "FileNotFoundError",
     "evalue": "[Errno 2] No such file or directory: 'plot_01.laz'",
     "output_type": "error",
     "traceback": [
      "\u001b[1;31m---------------------------------------------------------------------------\u001b[0m",
      "\u001b[1;31mFileNotFoundError\u001b[0m                         Traceback (most recent call last)",
      "Cell \u001b[1;32mIn[1], line 9\u001b[0m\n\u001b[0;32m      6\u001b[0m \u001b[38;5;28;01mimport\u001b[39;00m \u001b[38;5;21;01mmatplotlib\u001b[39;00m\u001b[38;5;21;01m.\u001b[39;00m\u001b[38;5;21;01mpyplot\u001b[39;00m \u001b[38;5;28;01mas\u001b[39;00m \u001b[38;5;21;01mplt\u001b[39;00m\n\u001b[0;32m      8\u001b[0m \u001b[38;5;66;03m# reading las file and copy points\u001b[39;00m\n\u001b[1;32m----> 9\u001b[0m las \u001b[38;5;241m=\u001b[39m laspy\u001b[38;5;241m.\u001b[39mread(\u001b[38;5;124m'\u001b[39m\u001b[38;5;124mplot_01.laz\u001b[39m\u001b[38;5;124m'\u001b[39m)\n\u001b[0;32m     10\u001b[0m point_records \u001b[38;5;241m=\u001b[39m las\u001b[38;5;241m.\u001b[39mpoints\u001b[38;5;241m.\u001b[39mcopy()\n\u001b[0;32m     12\u001b[0m \u001b[38;5;66;03m# getting scaling and offset parameters\u001b[39;00m\n",
      "File \u001b[1;32mc:\\Users\\fernando.perez\\AppData\\Local\\anaconda3\\envs\\test\\Lib\\site-packages\\laspy\\lib.py:248\u001b[0m, in \u001b[0;36mread_las\u001b[1;34m(source, closefd, laz_backend, decompression_selection)\u001b[0m\n\u001b[0;32m    208\u001b[0m \u001b[38;5;28;01mdef\u001b[39;00m \u001b[38;5;21mread_las\u001b[39m(\n\u001b[0;32m    209\u001b[0m     source,\n\u001b[0;32m    210\u001b[0m     closefd\u001b[38;5;241m=\u001b[39m\u001b[38;5;28;01mTrue\u001b[39;00m,\n\u001b[0;32m    211\u001b[0m     laz_backend\u001b[38;5;241m=\u001b[39mLazBackend\u001b[38;5;241m.\u001b[39mdetect_available(),\n\u001b[0;32m    212\u001b[0m     decompression_selection: DecompressionSelection \u001b[38;5;241m=\u001b[39m DecompressionSelection\u001b[38;5;241m.\u001b[39mall(),\n\u001b[0;32m    213\u001b[0m ):\n\u001b[0;32m    214\u001b[0m \u001b[38;5;250m    \u001b[39m\u001b[38;5;124;03m\"\"\"Entry point for reading las data in laspy\u001b[39;00m\n\u001b[0;32m    215\u001b[0m \n\u001b[0;32m    216\u001b[0m \u001b[38;5;124;03m    Reads the whole file into memory.\u001b[39;00m\n\u001b[1;32m   (...)\u001b[0m\n\u001b[0;32m    246\u001b[0m \u001b[38;5;124;03m        The ``decompression_selection`` parameter.\u001b[39;00m\n\u001b[0;32m    247\u001b[0m \u001b[38;5;124;03m    \"\"\"\u001b[39;00m\n\u001b[1;32m--> 248\u001b[0m     \u001b[38;5;28;01mwith\u001b[39;00m open_las(\n\u001b[0;32m    249\u001b[0m         source,\n\u001b[0;32m    250\u001b[0m         closefd\u001b[38;5;241m=\u001b[39mclosefd,\n\u001b[0;32m    251\u001b[0m         laz_backend\u001b[38;5;241m=\u001b[39mlaz_backend,\n\u001b[0;32m    252\u001b[0m         decompression_selection\u001b[38;5;241m=\u001b[39mdecompression_selection,\n\u001b[0;32m    253\u001b[0m     ) \u001b[38;5;28;01mas\u001b[39;00m reader:\n\u001b[0;32m    254\u001b[0m         \u001b[38;5;28;01mreturn\u001b[39;00m reader\u001b[38;5;241m.\u001b[39mread()\n",
      "File \u001b[1;32mc:\\Users\\fernando.perez\\AppData\\Local\\anaconda3\\envs\\test\\Lib\\site-packages\\laspy\\lib.py:141\u001b[0m, in \u001b[0;36mopen_las\u001b[1;34m(source, mode, closefd, laz_backend, header, do_compress, encoding_errors, read_evlrs, decompression_selection)\u001b[0m\n\u001b[0;32m    136\u001b[0m     \u001b[38;5;28;01mraise\u001b[39;00m LaspyException(\n\u001b[0;32m    137\u001b[0m         \u001b[38;5;124m\"\u001b[39m\u001b[38;5;124mdo_compress argument is not used when opening in read mode, \u001b[39m\u001b[38;5;124m\"\u001b[39m\n\u001b[0;32m    138\u001b[0m         \u001b[38;5;124m\"\u001b[39m\u001b[38;5;124mdid you meant to open in write mode ?\u001b[39m\u001b[38;5;124m\"\u001b[39m\n\u001b[0;32m    139\u001b[0m     )\n\u001b[0;32m    140\u001b[0m \u001b[38;5;28;01mif\u001b[39;00m \u001b[38;5;28misinstance\u001b[39m(source, (\u001b[38;5;28mstr\u001b[39m, Path)):\n\u001b[1;32m--> 141\u001b[0m     stream \u001b[38;5;241m=\u001b[39m \u001b[38;5;28mopen\u001b[39m(source, mode\u001b[38;5;241m=\u001b[39m\u001b[38;5;124m\"\u001b[39m\u001b[38;5;124mrb\u001b[39m\u001b[38;5;124m\"\u001b[39m, closefd\u001b[38;5;241m=\u001b[39mclosefd)\n\u001b[0;32m    142\u001b[0m \u001b[38;5;28;01melif\u001b[39;00m \u001b[38;5;28misinstance\u001b[39m(source, \u001b[38;5;28mbytes\u001b[39m):\n\u001b[0;32m    143\u001b[0m     stream \u001b[38;5;241m=\u001b[39m io\u001b[38;5;241m.\u001b[39mBytesIO(source)\n",
      "\u001b[1;31mFileNotFoundError\u001b[0m: [Errno 2] No such file or directory: 'plot_01.laz'"
     ]
    }
   ],
   "source": [
    "\n",
    "%matplotlib ipympl\n",
    "\n",
    "import numpy as np\n",
    "import laspy\n",
    "from mpl_toolkits.mplot3d import Axes3D\n",
    "import matplotlib.pyplot as plt\n",
    "\n",
    "# reading las file and copy points\n",
    "las = laspy.read('plot_01.laz')\n",
    "point_records = las.points.copy()\n",
    "\n",
    "# getting scaling and offset parameters\n",
    "las_scaleX = las.header.scale[0]\n",
    "las_offsetX = las.header.offset[0]\n",
    "las_scaleY = las.header.scale[1]\n",
    "las_offsetY = las.header.offset[1]\n",
    "las_scaleZ = las.header.scale[2]\n",
    "las_offsetZ = las.header.offset[2]\n",
    "\n",
    "# calculating coordinates\n",
    "p_X = np.array((point_records['X'] * las_scaleX) + las_offsetX)\n",
    "p_Y = np.array((point_records['Y'] * las_scaleY) + las_offsetY)\n",
    "p_Z = np.array((point_records['Z'] * las_scaleZ) + las_offsetZ)\n",
    "\n",
    "\n",
    "p_X = np.array((point_records['X']))\n",
    "p_Y = np.array((point_records['Y']))\n",
    "p_Z = np.array((point_records['Z']))\n",
    "\n",
    "# plotting points\n",
    "fig = plt.figure()\n",
    "ax = fig.add_subplot(111, projection='3d')\n",
    "ax.scatter(p_X, p_Y, p_Z, c='r', marker='o')\n",
    "plt.show()"
   ]
  },
  {
   "cell_type": "code",
   "execution_count": null,
   "metadata": {},
   "outputs": [],
   "source": []
  }
 ],
 "metadata": {
  "kernelspec": {
   "display_name": "test",
   "language": "python",
   "name": "python3"
  },
  "language_info": {
   "codemirror_mode": {
    "name": "ipython",
    "version": 3
   },
   "file_extension": ".py",
   "mimetype": "text/x-python",
   "name": "python",
   "nbconvert_exporter": "python",
   "pygments_lexer": "ipython3",
   "version": "3.11.5"
  }
 },
 "nbformat": 4,
 "nbformat_minor": 2
}
